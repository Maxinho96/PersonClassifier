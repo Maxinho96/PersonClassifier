{
 "cells": [
  {
   "cell_type": "markdown",
   "metadata": {},
   "source": [
    "# Exp1"
   ]
  },
  {
   "cell_type": "code",
   "execution_count": 5,
   "metadata": {},
   "outputs": [
    {
     "name": "stdout",
     "output_type": "stream",
     "text": [
      "2020-04-26 11:04:33.092504: I tensorflow/core/platform/cpu_feature_guard.cc:142] Your CPU supports instructions that this TensorFlow binary was not compiled to use: SSE4.1 SSE4.2 AVX AVX2 FMA\n",
      "2020-04-26 11:04:33.116468: I tensorflow/core/platform/profile_utils/cpu_utils.cc:94] CPU Frequency: 3200070000 Hz\n",
      "2020-04-26 11:04:33.116848: I tensorflow/compiler/xla/service/service.cc:168] XLA service 0x55dc684150e0 initialized for platform Host (this does not guarantee that XLA will be used). Devices:\n",
      "2020-04-26 11:04:33.116875: I tensorflow/compiler/xla/service/service.cc:176]   StreamExecutor device (0): Host, Default Version\n",
      "2020-04-26 11:04:33.116985: I tensorflow/core/common_runtime/process_util.cc:147] Creating new thread pool with default inter op setting: 2. Tune using inter_op_parallelism_threads for best performance.\n",
      "Trainable layers:\n",
      "output\n",
      "Train for 462 steps, validate for 151 steps\n",
      "Epoch 1/1000\n",
      "2020-04-26 11:04:55.717546: I tensorflow/core/kernels/data/shuffle_dataset_op.cc:150] Filling up shuffle buffer (this may take a while): 780 of 1000\n",
      "2020-04-26 11:04:58.401275: I tensorflow/core/kernels/data/shuffle_dataset_op.cc:199] Shuffle buffer filled.\n",
      "2020-04-26 11:04:59.190838: I tensorflow/core/profiler/lib/profiler_session.cc:225] Profiler session started.\n",
      "462/462 [==============================] - 229s 495ms/step - loss: 2.3830 - accuracy: 0.2200 - categorical_crossentropy: 2.3830 - val_loss: 3.1479 - val_accuracy: 0.1167 - val_categorical_crossentropy: 3.1479\n",
      "Epoch 2/1000\n",
      "461/462 [============================>.] - ETA: 0s - loss: 2.0775 - accuracy: 0.3398 - categorical_crossentropy: 2.07752020-04-26 11:11:06.821893: W tensorflow/core/kernels/data/generator_dataset_op.cc:103] Error occurred when finalizing GeneratorDataset iterator: Cancelled: Operation was cancelled\n",
      "462/462 [==============================] - 202s 436ms/step - loss: 2.0769 - accuracy: 0.3398 - categorical_crossentropy: 2.0769 - val_loss: 3.5188 - val_accuracy: 0.1217 - val_categorical_crossentropy: 3.5187\n",
      "Epoch 3/1000\n",
      "461/462 [============================>.] - ETA: 0s - loss: 2.0000 - accuracy: 0.3628 - categorical_crossentropy: 2.00002020-04-26 11:15:23.439204: W tensorflow/core/kernels/data/generator_dataset_op.cc:103] Error occurred when finalizing GeneratorDataset iterator: Cancelled: Operation was cancelled\n",
      "462/462 [==============================] - 267s 577ms/step - loss: 1.9999 - accuracy: 0.3628 - categorical_crossentropy: 1.9999 - val_loss: 3.9268 - val_accuracy: 0.1151 - val_categorical_crossentropy: 3.9268\n",
      "Epoch 4/1000\n",
      "461/462 [============================>.] - ETA: 0s - loss: 1.9276 - accuracy: 0.3888 - categorical_crossentropy: 1.92762020-04-26 11:19:58.350647: W tensorflow/core/kernels/data/generator_dataset_op.cc:103] Error occurred when finalizing GeneratorDataset iterator: Cancelled: Operation was cancelled\n",
      "462/462 [==============================] - 281s 609ms/step - loss: 1.9271 - accuracy: 0.3893 - categorical_crossentropy: 1.9271 - val_loss: 3.7123 - val_accuracy: 0.1291 - val_categorical_crossentropy: 3.7123\n",
      "Epoch 5/1000\n",
      "461/462 [============================>.] - ETA: 0s - loss: 1.8632 - accuracy: 0.4159 - categorical_crossentropy: 1.86322020-04-26 11:24:05.681569: W tensorflow/core/kernels/data/generator_dataset_op.cc:103] Error occurred when finalizing GeneratorDataset iterator: Cancelled: Operation was cancelled\n",
      "462/462 [==============================] - 265s 573ms/step - loss: 1.8633 - accuracy: 0.4159 - categorical_crossentropy: 1.8633 - val_loss: 4.0487 - val_accuracy: 0.1349 - val_categorical_crossentropy: 4.0487\n",
      "Epoch 6/1000\n",
      "461/462 [============================>.] - ETA: 0s - loss: 1.8151 - accuracy: 0.4219 - categorical_crossentropy: 1.81512020-04-26 11:28:21.738088: W tensorflow/core/kernels/data/generator_dataset_op.cc:103] Error occurred when finalizing GeneratorDataset iterator: Cancelled: Operation was cancelled\n",
      "462/462 [==============================] - 255s 553ms/step - loss: 1.8143 - accuracy: 0.4221 - categorical_crossentropy: 1.8143 - val_loss: 3.8435 - val_accuracy: 0.1531 - val_categorical_crossentropy: 3.8435\n",
      "Epoch 7/1000\n",
      "277/462 [================>.............] - ETA: 1:04 - loss: 1.8149 - accuracy: 0.4224 - categorical_crossentropy: 1.81492020-04-26 11:31:17.758180: I tensorflow/core/kernels/data/shuffle_dataset_op.cc:150] Filling up shuffle buffer (this may take a while): 723 of 1000\n",
      "279/462 [=================>............] - ETA: 1:03 - loss: 1.8181 - accuracy: 0.4211 - categorical_crossentropy: 1.81812020-04-26 11:31:21.476413: I tensorflow/core/kernels/data/shuffle_dataset_op.cc:199] Shuffle buffer filled.\n",
      "461/462 [============================>.] - ETA: 0s - loss: 1.8134 - accuracy: 0.4176 - categorical_crossentropy: 1.81342020-04-26 11:32:23.268377: W tensorflow/core/kernels/data/generator_dataset_op.cc:103] Error occurred when finalizing GeneratorDataset iterator: Cancelled: Operation was cancelled\n",
      "462/462 [==============================] - 253s 547ms/step - loss: 1.8126 - accuracy: 0.4183 - categorical_crossentropy: 1.8126 - val_loss: 4.0689 - val_accuracy: 0.1399 - val_categorical_crossentropy: 4.0689\n",
      "Epoch 8/1000\n",
      "461/462 [============================>.] - ETA: 0s - loss: 1.8203 - accuracy: 0.4281 - categorical_crossentropy: 1.82032020-04-26 11:35:55.922659: W tensorflow/core/kernels/data/generator_dataset_op.cc:103] Error occurred when finalizing GeneratorDataset iterator: Cancelled: Operation was cancelled\n",
      "462/462 [==============================] - 227s 492ms/step - loss: 1.8197 - accuracy: 0.4286 - categorical_crossentropy: 1.8197 - val_loss: 4.0997 - val_accuracy: 0.1374 - val_categorical_crossentropy: 4.0997\n",
      "Epoch 9/1000\n",
      "461/462 [============================>.] - ETA: 0s - loss: 1.7748 - accuracy: 0.4300 - categorical_crossentropy: 1.77482020-04-26 11:39:46.477812: W tensorflow/core/kernels/data/generator_dataset_op.cc:103] Error occurred when finalizing GeneratorDataset iterator: Cancelled: Operation was cancelled\n",
      "462/462 [==============================] - 206s 446ms/step - loss: 1.7761 - accuracy: 0.4294 - categorical_crossentropy: 1.7761 - val_loss: 4.4751 - val_accuracy: 0.1316 - val_categorical_crossentropy: 4.4750\n",
      "Epoch 10/1000\n",
      "461/462 [============================>.] - ETA: 0s - loss: 1.7651 - accuracy: 0.4403 - categorical_crossentropy: 1.76512020-04-26 11:43:09.172111: W tensorflow/core/kernels/data/generator_dataset_op.cc:103] Error occurred when finalizing GeneratorDataset iterator: Cancelled: Operation was cancelled\n",
      "462/462 [==============================] - 210s 453ms/step - loss: 1.7635 - accuracy: 0.4407 - categorical_crossentropy: 1.7635 - val_loss: 4.3000 - val_accuracy: 0.1507 - val_categorical_crossentropy: 4.3000\n",
      "Epoch 11/1000\n",
      "461/462 [============================>.] - ETA: 0s - loss: 1.7390 - accuracy: 0.4509 - categorical_crossentropy: 1.73902020-04-26 11:46:41.055464: W tensorflow/core/kernels/data/generator_dataset_op.cc:103] Error occurred when finalizing GeneratorDataset iterator: Cancelled: Operation was cancelled\n",
      "462/462 [==============================] - 212s 459ms/step - loss: 1.7384 - accuracy: 0.4513 - categorical_crossentropy: 1.7384 - val_loss: 4.9477 - val_accuracy: 0.1093 - val_categorical_crossentropy: 4.9477\n",
      "Epoch 12/1000\n",
      "461/462 [============================>.] - ETA: 0s - loss: 1.7164 - accuracy: 0.4612 - categorical_crossentropy: 1.71642020-04-26 11:50:18.686204: W tensorflow/core/kernels/data/generator_dataset_op.cc:103] Error occurred when finalizing GeneratorDataset iterator: Cancelled: Operation was cancelled\n",
      "462/462 [==============================] - 234s 506ms/step - loss: 1.7150 - accuracy: 0.4621 - categorical_crossentropy: 1.7150 - val_loss: 4.9578 - val_accuracy: 0.1142 - val_categorical_crossentropy: 4.9578\n",
      "Epoch 13/1000\n",
      "461/462 [============================>.] - ETA: 0s - loss: 1.7068 - accuracy: 0.4447 - categorical_crossentropy: 1.70682020-04-26 11:54:24.720371: W tensorflow/core/kernels/data/generator_dataset_op.cc:103] Error occurred when finalizing GeneratorDataset iterator: Cancelled: Operation was cancelled\n",
      "462/462 [==============================] - 193s 417ms/step - loss: 1.7072 - accuracy: 0.4445 - categorical_crossentropy: 1.7072 - val_loss: 4.9328 - val_accuracy: 0.1233 - val_categorical_crossentropy: 4.9328\n",
      "Epoch 14/1000\n"
     ]
    },
    {
     "name": "stdout",
     "output_type": "stream",
     "text": [
      " 61/462 [==>...........................] - ETA: 1:57 - loss: 1.6623 - accuracy: 0.4506 - categorical_crossentropy: 1.66232020-04-26 11:55:33.829630: W tensorflow/core/common_runtime/base_collective_executor.cc:217] BaseCollectiveExecutor::StartAbort Out of range: End of sequence\n",
      "\t [[{{node IteratorGetNext}}]]\n",
      "WARNING:tensorflow:Your input ran out of data; interrupting training. Make sure that your dataset or generator can generate at least `steps_per_epoch * epochs` batches (in this case, 462000 batches). You may need to use the repeat() function when building your dataset.\n",
      "W0426 11:55:33.919927 140155385075520 training_v2.py:152] Your input ran out of data; interrupting training. Make sure that your dataset or generator can generate at least `steps_per_epoch * epochs` batches (in this case, 462000 batches). You may need to use the repeat() function when building your dataset.\n",
      "WARNING:tensorflow:Can save best model only with val_accuracy available, skipping.\n",
      "W0426 11:55:33.922087 140155385075520 callbacks.py:1018] Can save best model only with val_accuracy available, skipping.\n",
      "WARNING:tensorflow:Early stopping conditioned on metric `val_accuracy` which is not available. Available metrics are: loss,accuracy,categorical_crossentropy\n",
      "W0426 11:55:33.922249 140155385075520 callbacks.py:1286] Early stopping conditioned on metric `val_accuracy` which is not available. Available metrics are: loss,accuracy,categorical_crossentropy\n",
      " 61/462 [==>...........................] - ETA: 1:57 - loss: 1.6623 - accuracy: 0.4506 - categorical_crossentropy: 1.66232020-04-26 11:55:33.931038: W tensorflow/core/kernels/data/generator_dataset_op.cc:103] Error occurred when finalizing GeneratorDataset iterator: Cancelled: Operation was cancelled\n"
     ]
    }
   ],
   "source": [
    "!python train.py \\\n",
    "--exp=1 \\\n",
    "--trainable_layers=1 \\\n",
    "--optimizer=\"nadam\" \\\n",
    "--batch_size=8 \\\n",
    "--epochs=1000 \\\n",
    "--cache_train=False \\\n",
    "--cache_val=False"
   ]
  },
  {
   "cell_type": "markdown",
   "metadata": {},
   "source": [
    "# Exp2"
   ]
  },
  {
   "cell_type": "code",
   "execution_count": null,
   "metadata": {},
   "outputs": [
    {
     "name": "stdout",
     "output_type": "stream",
     "text": [
      "2020-04-26 12:04:05.254264: I tensorflow/core/platform/cpu_feature_guard.cc:142] Your CPU supports instructions that this TensorFlow binary was not compiled to use: SSE4.1 SSE4.2 AVX AVX2 FMA\n",
      "2020-04-26 12:04:05.296530: I tensorflow/core/platform/profile_utils/cpu_utils.cc:94] CPU Frequency: 3200070000 Hz\n",
      "2020-04-26 12:04:05.297203: I tensorflow/compiler/xla/service/service.cc:168] XLA service 0x5588cb963ba0 initialized for platform Host (this does not guarantee that XLA will be used). Devices:\n",
      "2020-04-26 12:04:05.297241: I tensorflow/compiler/xla/service/service.cc:176]   StreamExecutor device (0): Host, Default Version\n",
      "2020-04-26 12:04:05.297744: I tensorflow/core/common_runtime/process_util.cc:147] Creating new thread pool with default inter op setting: 2. Tune using inter_op_parallelism_threads for best performance.\n",
      "Trainable layers:\n",
      "output\n",
      "Train for 462 steps, validate for 151 steps\n",
      "Epoch 1/1000\n",
      "2020-04-26 12:04:32.788375: I tensorflow/core/profiler/lib/profiler_session.cc:225] Profiler session started.\n",
      "462/462 [==============================] - 977s 2s/step - loss: 2.3478 - accuracy: 0.2281 - categorical_crossentropy: 2.3478 - val_loss: 3.0207 - val_accuracy: 0.0977 - val_categorical_crossentropy: 3.0207\n",
      "Epoch 2/1000\n",
      "409/462 [=========================>....] - ETA: 1:59 - loss: 1.9994 - accuracy: 0.3695 - categorical_crossentropy: 1.9994"
     ]
    }
   ],
   "source": [
    "!python train.py \\\n",
    "--exp=2 \\\n",
    "--size=299 \\\n",
    "--trainable_layers=1 \\\n",
    "--optimizer=\"nadam\" \\\n",
    "--batch_size=8 \\\n",
    "--epochs=1000"
   ]
  },
  {
   "cell_type": "code",
   "execution_count": null,
   "metadata": {
    "scrolled": true
   },
   "outputs": [],
   "source": [
    "!python train.py \\\n",
    "--exp=3 \\\n",
    "--trainable_layers=1 \\\n",
    "--optimizer=\"sgd\" \\\n",
    "--batch_size=16 \\\n",
    "--epochs=1000 \\\n",
    "--cache_train=False"
   ]
  },
  {
   "cell_type": "code",
   "execution_count": null,
   "metadata": {},
   "outputs": [],
   "source": []
  }
 ],
 "metadata": {
  "kernelspec": {
   "display_name": "Python 3",
   "language": "python",
   "name": "python3"
  },
  "language_info": {
   "codemirror_mode": {
    "name": "ipython",
    "version": 3
   },
   "file_extension": ".py",
   "mimetype": "text/x-python",
   "name": "python",
   "nbconvert_exporter": "python",
   "pygments_lexer": "ipython3",
   "version": "3.7.7"
  }
 },
 "nbformat": 4,
 "nbformat_minor": 4
}
