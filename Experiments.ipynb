{
 "cells": [
  {
   "cell_type": "markdown",
   "metadata": {},
   "source": [
    "# Exp1"
   ]
  },
  {
   "cell_type": "code",
   "execution_count": null,
   "metadata": {},
   "outputs": [
    {
     "name": "stdout",
     "output_type": "stream",
     "text": [
      "2020-04-25 17:04:43.750584: I tensorflow/core/platform/cpu_feature_guard.cc:142] Your CPU supports instructions that this TensorFlow binary was not compiled to use: SSE4.1 SSE4.2 AVX AVX2 FMA\n",
      "2020-04-25 17:04:43.780396: I tensorflow/core/platform/profile_utils/cpu_utils.cc:94] CPU Frequency: 3200115000 Hz\n",
      "2020-04-25 17:04:43.780730: I tensorflow/compiler/xla/service/service.cc:168] XLA service 0x55cbfa42a2c0 initialized for platform Host (this does not guarantee that XLA will be used). Devices:\n",
      "2020-04-25 17:04:43.780757: I tensorflow/compiler/xla/service/service.cc:176]   StreamExecutor device (0): Host, Default Version\n",
      "2020-04-25 17:04:43.780902: I tensorflow/core/common_runtime/process_util.cc:147] Creating new thread pool with default inter op setting: 2. Tune using inter_op_parallelism_threads for best performance.\n",
      "Trainable layers:\n",
      "output\n",
      "Train for 514 steps\n",
      "Epoch 1/1000\n",
      "2020-04-25 17:05:01.101607: I tensorflow/core/kernels/data/shuffle_dataset_op.cc:150] Filling up shuffle buffer (this may take a while): 678 of 1000\n",
      "2020-04-25 17:05:05.676034: I tensorflow/core/kernels/data/shuffle_dataset_op.cc:199] Shuffle buffer filled.\n",
      "2020-04-25 17:05:09.126502: I tensorflow/core/profiler/lib/profiler_session.cc:225] Profiler session started.\n",
      "513/514 [============================>.] - ETA: 0s - loss: 1.0199 - accuracy: 0.4763"
     ]
    }
   ],
   "source": [
    "!python train.py \\\n",
    "--exp=1 \\\n",
    "--trainable_layers=1 \\\n",
    "--optimizer=\"rmsprop\" \\\n",
    "--batch_size=32 \\\n",
    "--epochs=1000"
   ]
  },
  {
   "cell_type": "code",
   "execution_count": 21,
   "metadata": {},
   "outputs": [
    {
     "name": "stdout",
     "output_type": "stream",
     "text": [
      "2020-04-25 17:00:38.185261: I tensorflow/core/platform/cpu_feature_guard.cc:142] Your CPU supports instructions that this TensorFlow binary was not compiled to use: SSE4.1 SSE4.2 AVX AVX2 FMA\n",
      "2020-04-25 17:00:38.208302: I tensorflow/core/platform/profile_utils/cpu_utils.cc:94] CPU Frequency: 3200115000 Hz\n",
      "2020-04-25 17:00:38.208549: I tensorflow/compiler/xla/service/service.cc:168] XLA service 0x5606002d4bb0 initialized for platform Host (this does not guarantee that XLA will be used). Devices:\n",
      "2020-04-25 17:00:38.208569: I tensorflow/compiler/xla/service/service.cc:176]   StreamExecutor device (0): Host, Default Version\n",
      "2020-04-25 17:00:38.208652: I tensorflow/core/common_runtime/process_util.cc:147] Creating new thread pool with default inter op setting: 2. Tune using inter_op_parallelism_threads for best performance.\n",
      "Trainable layers:\n",
      "output\n",
      "Train for 2310 steps, validate for 757 steps\n",
      "Epoch 1/1000\n",
      "2020-04-25 17:00:58.400380: I tensorflow/core/kernels/data/shuffle_dataset_op.cc:150] Filling up shuffle buffer (this may take a while): 970 of 1000\n",
      "2020-04-25 17:00:58.729075: I tensorflow/core/kernels/data/shuffle_dataset_op.cc:199] Shuffle buffer filled.\n",
      "2020-04-25 17:01:03.732748: I tensorflow/core/profiler/lib/profiler_session.cc:225] Profiler session started.\n",
      "   5/2310 [..............................] - ETA: 4:30:57 - loss: 2.7478 - accuracy: 0.0750^C\n"
     ]
    }
   ],
   "source": [
    "!python train.py \\\n",
    "--exp=1 \\\n",
    "--size=299 \\\n",
    "--trainable_layers=1 \\\n",
    "--optimizer=\"rmsprop\" \\\n",
    "--batch_size=32 \\\n",
    "--epochs=1000"
   ]
  },
  {
   "cell_type": "code",
   "execution_count": null,
   "metadata": {},
   "outputs": [],
   "source": []
  }
 ],
 "metadata": {
  "kernelspec": {
   "display_name": "Python 3",
   "language": "python",
   "name": "python3"
  },
  "language_info": {
   "codemirror_mode": {
    "name": "ipython",
    "version": 3
   },
   "file_extension": ".py",
   "mimetype": "text/x-python",
   "name": "python",
   "nbconvert_exporter": "python",
   "pygments_lexer": "ipython3",
   "version": "3.7.7"
  }
 },
 "nbformat": 4,
 "nbformat_minor": 4
}
